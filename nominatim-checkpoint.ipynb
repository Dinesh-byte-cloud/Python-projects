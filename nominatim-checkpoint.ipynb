{
 "cells": [
  {
   "cell_type": "code",
   "execution_count": 6,
   "id": "2fba9391",
   "metadata": {},
   "outputs": [
    {
     "name": "stdout",
     "output_type": "stream",
     "text": [
      "Geocoding failed.\n"
     ]
    }
   ],
   "source": [
    "from geopy.geocoders import Nominatim\n",
    "\n",
    "def get_lat_long(address, business):\n",
    "    geolocator = Nominatim(user_agent=\"business-geocoder\")\n",
    "    location = geolocator.geocode(f\"{business}, {address}\")\n",
    "\n",
    "    if location:\n",
    "        latitude = location.latitude\n",
    "        longitude = location.longitude\n",
    "        return latitude, longitude\n",
    "    else:\n",
    "        return None, None\n",
    "\n",
    "if __name__ == \"__main__\":\n",
    "    address = \"Shop No. 5, Plot No. 49, Shreeji Darshan Sector 40 Seawoods Cha Raja Chowk, Navi Mumbai, Maharashtra 400706\"  # Example address\n",
    "    business = \"Wellness Forever\"  # Example business related to the address\n",
    "\n",
    "    latitude, longitude = get_lat_long(address, business)\n",
    "    \n",
    "    if latitude is not None and longitude is not None:\n",
    "        print(f\"Business: {business}\")\n",
    "        print(f\"Address: {address}\")\n",
    "        print(f\"Latitude: {latitude}\")\n",
    "        print(f\"Longitude: {longitude}\")\n",
    "    else:\n",
    "        print(\"Geocoding failed.\")\n"
   ]
  },
  {
   "cell_type": "code",
   "execution_count": null,
   "id": "3adfac17",
   "metadata": {},
   "outputs": [],
   "source": []
  }
 ],
 "metadata": {
  "kernelspec": {
   "display_name": "Python 3",
   "language": "python",
   "name": "python3"
  },
  "language_info": {
   "codemirror_mode": {
    "name": "ipython",
    "version": 3
   },
   "file_extension": ".py",
   "mimetype": "text/x-python",
   "name": "python",
   "nbconvert_exporter": "python",
   "pygments_lexer": "ipython3",
   "version": "3.8.8"
  }
 },
 "nbformat": 4,
 "nbformat_minor": 5
}
