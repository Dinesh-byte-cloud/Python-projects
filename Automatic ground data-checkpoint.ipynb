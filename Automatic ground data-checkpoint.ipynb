{
 "cells": [
  {
   "cell_type": "code",
   "execution_count": 5,
   "id": "ae6cb697",
   "metadata": {},
   "outputs": [],
   "source": [
    "import requests"
   ]
  },
  {
   "cell_type": "code",
   "execution_count": 6,
   "id": "500faf59",
   "metadata": {},
   "outputs": [
    {
     "name": "stdout",
     "output_type": "stream",
     "text": [
      "Elevation (in meters): 4.0\n"
     ]
    }
   ],
   "source": [
    "def get_elevation(lattitude, longitude):\n",
    "    base_url = f\"https://api.open-elevation.com/api/v1/lookup?locations={lattitude},{longitude}\"\n",
    "    response = requests.get(base_url)\n",
    "    data = response.json()\n",
    "    \n",
    "    if \"results\" in data:\n",
    "        elevation = data[\"results\"][0][\"elevation\"]\n",
    "        return elevation\n",
    "    else:\n",
    "        return None\n",
    "    \n",
    "if __name__ == \"__main__\":\n",
    "    lattitude = 19.019839339079862\n",
    "    longitude = 73.01631553726632\n",
    "    elevation = get_elevation(lattitude,longitude)\n",
    "    print(f\"Elevation (in meters): {elevation}\")\n",
    "    \n",
    "else:\n",
    "    print(\"elevation not found\")"
   ]
  },
  {
   "cell_type": "code",
   "execution_count": null,
   "id": "aee3f069",
   "metadata": {},
   "outputs": [],
   "source": []
  }
 ],
 "metadata": {
  "kernelspec": {
   "display_name": "Python 3",
   "language": "python",
   "name": "python3"
  },
  "language_info": {
   "codemirror_mode": {
    "name": "ipython",
    "version": 3
   },
   "file_extension": ".py",
   "mimetype": "text/x-python",
   "name": "python",
   "nbconvert_exporter": "python",
   "pygments_lexer": "ipython3",
   "version": "3.8.8"
  }
 },
 "nbformat": 4,
 "nbformat_minor": 5
}
