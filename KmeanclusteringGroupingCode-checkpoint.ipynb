{
 "cells": [
  {
   "cell_type": "code",
   "execution_count": 1,
   "id": "b3ceb9e0",
   "metadata": {},
   "outputs": [],
   "source": [
    "from sklearn.cluster import KMeans\n",
    "from sklearn.cluster import DBSCAN\n",
    "from sklearn.metrics.pairwise import haversine_distances\n",
    "from math import radians\n",
    "from matplotlib.colors import ListedColormap\n",
    "import matplotlib.pyplot as plt\n",
    "import numpy as np\n"
   ]
  },
  {
   "cell_type": "code",
   "execution_count": 2,
   "id": "9835f122",
   "metadata": {},
   "outputs": [],
   "source": [
    "%matplotlib qt\n",
    "coordinates = [\n",
    "    [73.016337,19.01987992930586],\n",
    "    [73.0196522101253,19.021604247576075],\n",
    "    [73.0161224232982,19.02013350664916],\n",
    "    [73.01642945288962,19.019831601814168],\n",
    "    [73.0183080023566,19.021224024988516],\n",
    "    [73.0012210734247,19.160930844615983],\n",
    "    [ 73.00309861961247,19.160191027183878],\n",
    "    [73.00113524274182,19.161437566969227],\n",
    "    [73.0011674292479,19.162096303700388]\n",
    "    # Add more coordinates as needed\n",
    "]"
   ]
  },
  {
   "cell_type": "code",
   "execution_count": 3,
   "id": "bae594a1",
   "metadata": {},
   "outputs": [
    {
     "name": "stdout",
     "output_type": "stream",
     "text": [
      "Distance between coordinates 0 and 2 is 25.24 meters\n",
      "Distance between coordinates 0 and 3 is 10.40 meters\n",
      "Distance between coordinates 2 and 0 is 25.24 meters\n",
      "Distance between coordinates 2 and 3 is 35.52 meters\n",
      "Distance between coordinates 3 and 0 is 10.40 meters\n",
      "Distance between coordinates 3 and 2 is 35.52 meters\n",
      "Distance between coordinates 5 and 7 is 19.04 meters\n",
      "Distance between coordinates 5 and 8 is 38.35 meters\n",
      "Distance between coordinates 7 and 5 is 19.04 meters\n",
      "Distance between coordinates 7 and 8 is 21.71 meters\n",
      "Distance between coordinates 8 and 5 is 38.35 meters\n",
      "Distance between coordinates 8 and 7 is 21.71 meters\n"
     ]
    }
   ],
   "source": [
    "# Convert coordinates from degrees to radians for distance calculation\n",
    "coords = [list(map(radians,point)) for point in coordinates]\n",
    "\n",
    "# Define the maximum distance (in meters) for forming clusters\n",
    "vicinity_distance = 100  # Adjust as needed\n",
    "\n",
    "# Convert the vicinity distance to radians for distance calculation\n",
    "vicinity_radius = vicinity_distance / 6371000  # Earth radius in meters\n",
    "\n",
    "# Compute pairwise haversine distances between coordinates\n",
    "distances = haversine_distances(coords, coords) * 6371000\n",
    "for i,point1 in enumerate(coords):\n",
    "    for j,point2 in enumerate(coords):\n",
    "        less_distance = distances[i,j]\n",
    "        if i!=j and  less_distance <= vicinity_distance:\n",
    "             print(f'Distance between coordinates {i} and {j} is {less_distance:.2f} meters')\n",
    "            "
   ]
  },
  {
   "cell_type": "code",
   "execution_count": 4,
   "id": "7c1ffc64",
   "metadata": {},
   "outputs": [],
   "source": [
    "# Instead of DBSCAN, create an instance of KMeans with the desired number of clusters\n",
    "kmeans = KMeans(n_clusters=len(coordinates))  # You can change the number of clusters as needed\n",
    "\n",
    "# Fit the KMeans model to the data and get the cluster assignments\n",
    "clusters = kmeans.fit_predict(distances)\n"
   ]
  },
  {
   "cell_type": "code",
   "execution_count": 5,
   "id": "1491fbfc",
   "metadata": {},
   "outputs": [],
   "source": [
    "unique_clusters = set(clusters)\n",
    "num_colors = len(coords)\n",
    "\n",
    "# Create a ListedColormap with the desired number of colors\n",
    "cmap = plt.get_cmap('tab10', num_colors)\n",
    "\n",
    "# Generate an array of colors\n",
    "colors = cmap(np.linspace(0, 1, num_colors)) # Add more colors if needed and dependent on number of coordinates provided"
   ]
  },
  {
   "cell_type": "code",
   "execution_count": 6,
   "id": "69bb3172",
   "metadata": {},
   "outputs": [],
   "source": [
    "# Get the cluster centers directly from the KMeans model\n",
    "centroids = kmeans.cluster_centers_\n",
    "\n",
    "# Plot the clusters and distance lines\n",
    "for i, cluster in enumerate(unique_clusters):\n",
    "    cluster_points = [coordinates[j] for j, c in enumerate(clusters) if c == cluster]\n",
    "    cluster_color = colors[i % len(colors)]\n",
    "    centroid = cluster_points[0]\n",
    "    label = f'Cluster {i} : ({centroid[1]:.6f}, {centroid[0]:.6f})'\n",
    "    plt.scatter(*zip(*cluster_points), color=cluster_color, label=label)\n",
    "    plt.text(centroid[1], centroid[0], label, color=cluster_color)\n",
    "\n",
    "    # Plot the points in the cluster\n",
    "#     plt.scatter(*zip(*cluster_points), color=cluster_color, label=f'Cluster {cluster}')\n",
    "\n",
    "    # Draw lines connecting the centroid of each cluster to centroids of all other clusters\n",
    "\n",
    "    for j, other_centroid in enumerate(centroids):\n",
    "        if i != j:\n",
    "#             distance_matrix = haversine_distances([centroids[i], other_centroid]) * 6371000\n",
    "#             distance = distance_matrix[0, 1]\n",
    "#             if distance <= vicinity_distance:\n",
    "                plt.plot([centroids[i][0], other_centroid[0]], [centroids[i][1], other_centroid[1]],\n",
    "                         color='black', linestyle='-', alpha=0.3)\n",
    "plt.xlabel('Longitude')\n",
    "plt.ylabel('Latitude')\n",
    "plt.title('Clustering of Coordinates')\n",
    "plt.legend()\n",
    "# print(\"Click on a line to see the distance between the two points.\")\n",
    "# plt.ginput(n=1, show_clicks=True)\n",
    "plt.show()"
   ]
  },
  {
   "cell_type": "code",
   "execution_count": null,
   "id": "ed886637",
   "metadata": {},
   "outputs": [],
   "source": []
  }
 ],
 "metadata": {
  "kernelspec": {
   "display_name": "Python 3",
   "language": "python",
   "name": "python3"
  },
  "language_info": {
   "codemirror_mode": {
    "name": "ipython",
    "version": 3
   },
   "file_extension": ".py",
   "mimetype": "text/x-python",
   "name": "python",
   "nbconvert_exporter": "python",
   "pygments_lexer": "ipython3",
   "version": "3.8.8"
  }
 },
 "nbformat": 4,
 "nbformat_minor": 5
}
