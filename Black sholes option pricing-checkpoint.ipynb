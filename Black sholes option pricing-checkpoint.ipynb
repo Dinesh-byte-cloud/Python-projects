{
 "cells": [
  {
   "cell_type": "code",
   "execution_count": 1,
   "id": "47868e6a",
   "metadata": {},
   "outputs": [],
   "source": [
    "import numpy as np\n",
    "import pandas as pd\n",
    "from pandas_datareader import data as wb\n",
    "import matplotlib.pyplot as plt\n",
    "from scipy.stats import norm"
   ]
  },
  {
   "cell_type": "code",
   "execution_count": 2,
   "id": "5074b016",
   "metadata": {},
   "outputs": [],
   "source": [
    "def d1(S,K ,r,stdev,T):\n",
    "    return(np.log(S/K) + (r + stdev **2/2) * T)/(stdev * np.sqrt(T))"
   ]
  },
  {
   "cell_type": "code",
   "execution_count": 3,
   "id": "1d74cb9a",
   "metadata": {},
   "outputs": [],
   "source": [
    "def d2(S,K,r,stdev,T):\n",
    "    return(np.log(S/K) + (r - stdev **2/2) * T)/(stdev * np.sqrt(T))"
   ]
  },
  {
   "cell_type": "code",
   "execution_count": 4,
   "id": "987f06fb",
   "metadata": {},
   "outputs": [
    {
     "data": {
      "text/plain": [
       "0.5"
      ]
     },
     "execution_count": 4,
     "metadata": {},
     "output_type": "execute_result"
    }
   ],
   "source": [
    "norm.cdf(0)"
   ]
  },
  {
   "cell_type": "code",
   "execution_count": 5,
   "id": "1abed14e",
   "metadata": {},
   "outputs": [
    {
     "data": {
      "text/plain": [
       "0.5987063256829237"
      ]
     },
     "execution_count": 5,
     "metadata": {},
     "output_type": "execute_result"
    }
   ],
   "source": [
    "norm.cdf(0.25)"
   ]
  },
  {
   "cell_type": "code",
   "execution_count": 6,
   "id": "cc8f20da",
   "metadata": {},
   "outputs": [],
   "source": [
    "def BSM(S,K,r,stdev,T):\n",
    "    return (S*norm.cdf(d1(S,K ,r,stdev,T))- K*norm.cdf(d2(S,K,r,stdev,T)))"
   ]
  },
  {
   "cell_type": "code",
   "execution_count": 7,
   "id": "9b7c1328",
   "metadata": {},
   "outputs": [],
   "source": [
    "ticker = 'PG'\n",
    "data = pd.DataFrame()\n",
    "data[ticker] = wb.DataReader(ticker, data_source='yahoo',start='2007-1-1')['Adj Close']"
   ]
  },
  {
   "cell_type": "code",
   "execution_count": 8,
   "id": "bb5f2df4",
   "metadata": {},
   "outputs": [
    {
     "data": {
      "text/plain": [
       "PG    145.169998\n",
       "Name: 2022-11-22 00:00:00, dtype: float64"
      ]
     },
     "execution_count": 8,
     "metadata": {},
     "output_type": "execute_result"
    }
   ],
   "source": [
    "S0 = data.iloc[-1]\n",
    "S0"
   ]
  },
  {
   "cell_type": "code",
   "execution_count": 9,
   "id": "97c85fa8",
   "metadata": {},
   "outputs": [],
   "source": [
    "log_returns = np.log(1 + data.pct_change())"
   ]
  },
  {
   "cell_type": "code",
   "execution_count": 10,
   "id": "645e6bbb",
   "metadata": {},
   "outputs": [],
   "source": [
    "stdev = log_returns.std()* 250 **0.5"
   ]
  },
  {
   "cell_type": "code",
   "execution_count": 11,
   "id": "280dde63",
   "metadata": {},
   "outputs": [
    {
     "data": {
      "text/plain": [
       "PG    0.187835\n",
       "dtype: float64"
      ]
     },
     "execution_count": 11,
     "metadata": {},
     "output_type": "execute_result"
    }
   ],
   "source": [
    "stdev"
   ]
  },
  {
   "cell_type": "code",
   "execution_count": 12,
   "id": "fbe88199",
   "metadata": {},
   "outputs": [],
   "source": [
    "r = 0.025\n",
    "K = 110\n",
    "T = 1"
   ]
  },
  {
   "cell_type": "code",
   "execution_count": 14,
   "id": "c61f59a8",
   "metadata": {},
   "outputs": [
    {
     "data": {
      "text/plain": [
       "PG    1.703972\n",
       "dtype: float64"
      ]
     },
     "execution_count": 14,
     "metadata": {},
     "output_type": "execute_result"
    }
   ],
   "source": [
    "d1(S0,K,r,stdev,T)"
   ]
  },
  {
   "cell_type": "code",
   "execution_count": 15,
   "id": "569da083",
   "metadata": {},
   "outputs": [
    {
     "data": {
      "text/plain": [
       "PG    1.516137\n",
       "dtype: float64"
      ]
     },
     "execution_count": 15,
     "metadata": {},
     "output_type": "execute_result"
    }
   ],
   "source": [
    "d2(S0,K,r,stdev,T)"
   ]
  },
  {
   "cell_type": "code",
   "execution_count": 17,
   "id": "3ec4e652",
   "metadata": {},
   "outputs": [
    {
     "data": {
      "text/plain": [
       "PG    35.876141\n",
       "Name: 2022-11-22 00:00:00, dtype: float64"
      ]
     },
     "execution_count": 17,
     "metadata": {},
     "output_type": "execute_result"
    }
   ],
   "source": [
    "BSM(S0,K,r,stdev,T)"
   ]
  },
  {
   "cell_type": "code",
   "execution_count": null,
   "id": "26984845",
   "metadata": {},
   "outputs": [],
   "source": []
  }
 ],
 "metadata": {
  "kernelspec": {
   "display_name": "Python 3",
   "language": "python",
   "name": "python3"
  },
  "language_info": {
   "codemirror_mode": {
    "name": "ipython",
    "version": 3
   },
   "file_extension": ".py",
   "mimetype": "text/x-python",
   "name": "python",
   "nbconvert_exporter": "python",
   "pygments_lexer": "ipython3",
   "version": "3.8.8"
  }
 },
 "nbformat": 4,
 "nbformat_minor": 5
}
