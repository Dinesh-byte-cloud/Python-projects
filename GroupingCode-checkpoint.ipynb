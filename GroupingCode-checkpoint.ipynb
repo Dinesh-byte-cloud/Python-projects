{
 "cells": [
  {
   "cell_type": "code",
   "execution_count": 1,
   "id": "b3ceb9e0",
   "metadata": {},
   "outputs": [],
   "source": [
    "from sklearn.cluster import DBSCAN\n",
    "from sklearn.metrics.pairwise import haversine_distances\n",
    "from math import radians\n",
    "import matplotlib.pyplot as plt\n",
    "import numpy as np"
   ]
  },
  {
   "cell_type": "code",
   "execution_count": 2,
   "id": "9835f122",
   "metadata": {},
   "outputs": [],
   "source": [
    "%matplotlib qt\n",
    "coordinates = [\n",
    "    [73.016337,19.01987992930586],\n",
    "    [73.0196522101253,19.021604247576075],\n",
    "    [73.0161224232982,19.02013350664916],\n",
    "    [73.01642945288962,19.019831601814168],\n",
    "    [73.0183080023566,19.021224024988516],\n",
    "    [73.0012210734247,19.160930844615983],\n",
    "    [ 73.00309861961247,19.160191027183878],\n",
    "    [73.00113524274182,19.161437566969227],\n",
    "    [73.0011674292479,19.162096303700388]\n",
    "    # Add more coordinates as needed\n",
    "]"
   ]
  },
  {
   "cell_type": "code",
   "execution_count": 3,
   "id": "bae594a1",
   "metadata": {},
   "outputs": [],
   "source": [
    "# Convert coordinates from degrees to radians for distance calculation\n",
    "coords = [list(map(radians,point)) for point in coordinates]\n",
    "\n",
    "# Define the maximum distance (in meters) for forming clusters\n",
    "vicinity_distance = 10  # Adjust as needed\n",
    "\n",
    "# Convert the vicinity distance to radians for distance calculation\n",
    "vicinity_radius = vicinity_distance / 6371000  # Earth radius in meters\n",
    "\n",
    "# Compute pairwise haversine distances between coordinates\n",
    "distances = haversine_distances(coords, coords) * 6371000"
   ]
  },
  {
   "cell_type": "code",
   "execution_count": 4,
   "id": "7c1ffc64",
   "metadata": {},
   "outputs": [],
   "source": [
    "dbscan = DBSCAN(eps=vicinity_radius, min_samples=1, metric='precomputed')\n",
    "clusters = dbscan.fit_predict(distances)\n"
   ]
  },
  {
   "cell_type": "code",
   "execution_count": 5,
   "id": "1491fbfc",
   "metadata": {},
   "outputs": [],
   "source": [
    "\n",
    "colors = ['blue', 'red', 'green', 'orange', 'purple', 'yellow']  # Add more colors if needed and dependent on number of coordinates provided"
   ]
  },
  {
   "cell_type": "code",
   "execution_count": 17,
   "id": "69bb3172",
   "metadata": {},
   "outputs": [],
   "source": [
    "# Merge clusters that are within the specified vicinity distance\n",
    "merged_clusters = []  # List to store the merged clusters\n",
    "\n",
    "for cluster_label in set(clusters):\n",
    "    cluster_points = [coordinates[i] for i, c in enumerate(clusters) if c == cluster_label]\n",
    "    merge_clusters = True\n",
    "\n",
    "    for merged_cluster in merged_clusters:\n",
    "        centroid1 = merged_cluster[0]\n",
    "        centroid2 = [sum(x) / len(x) for x in zip(*cluster_points)]\n",
    "        distance_matrix = haversine_distances([centroid1, centroid2]) * 6371000\n",
    "        distance = distance_matrix[0, 1]\n",
    "        if distance <= vicinity_distance:\n",
    "            merged_cluster[1].extend(cluster_points)\n",
    "            merged_cluster[0] = [sum(x) / len(x) for x in zip(*merged_cluster[1])]\n",
    "            merge_clusters = False\n",
    "            break\n",
    "\n",
    "    if merge_clusters:\n",
    "        merged_clusters.append(([sum(x) / len(x) for x in zip(*cluster_points)], cluster_points))\n",
    "\n",
    "# Plot the merged clusters\n",
    "for i, (_, cluster_points) in enumerate(merged_clusters):\n",
    "    cluster_color = colors[i % len(colors)]\n",
    "    plt.scatter(*zip(*cluster_points), color=cluster_color, label=f'Cluster {i}')\n",
    "\n",
    "plt.xlabel('Longitude')\n",
    "plt.ylabel('Latitude')\n",
    "plt.title('Clustering of Coordinates')\n",
    "plt.legend()\n",
    "plt.show()\n",
    "\n"
   ]
  },
  {
   "cell_type": "code",
   "execution_count": 16,
   "id": "ed886637",
   "metadata": {},
   "outputs": [],
   "source": []
  },
  {
   "cell_type": "code",
   "execution_count": null,
   "id": "734c8f83",
   "metadata": {},
   "outputs": [],
   "source": []
  }
 ],
 "metadata": {
  "kernelspec": {
   "display_name": "Python 3",
   "language": "python",
   "name": "python3"
  },
  "language_info": {
   "codemirror_mode": {
    "name": "ipython",
    "version": 3
   },
   "file_extension": ".py",
   "mimetype": "text/x-python",
   "name": "python",
   "nbconvert_exporter": "python",
   "pygments_lexer": "ipython3",
   "version": "3.8.8"
  }
 },
 "nbformat": 4,
 "nbformat_minor": 5
}
